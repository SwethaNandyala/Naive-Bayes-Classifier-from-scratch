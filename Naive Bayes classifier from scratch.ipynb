{
 "cells": [
  {
   "cell_type": "code",
   "execution_count": 1,
   "id": "c14c5b08",
   "metadata": {},
   "outputs": [],
   "source": [
    "import numpy as np\n",
    "import pandas as pd\n",
    "from sklearn.datasets import load_iris\n",
    "from sklearn.model_selection import train_test_split\n",
    "from sklearn.naive_bayes import GaussianNB\n",
    "from sklearn.metrics import accuracy_score"
   ]
  },
  {
   "cell_type": "code",
   "execution_count": 2,
   "id": "7ff5f3c2",
   "metadata": {},
   "outputs": [],
   "source": [
    "iris_data = load_iris()"
   ]
  },
  {
   "cell_type": "code",
   "execution_count": 3,
   "id": "f2dc1625",
   "metadata": {},
   "outputs": [],
   "source": [
    "data_df = pd.DataFrame(data = iris_data.data, columns=iris_data.feature_names)"
   ]
  },
  {
   "cell_type": "code",
   "execution_count": 4,
   "id": "97619d3b",
   "metadata": {},
   "outputs": [],
   "source": [
    "data_df[\"target\"] = iris_data.target"
   ]
  },
  {
   "cell_type": "raw",
   "id": "9c99b4a7",
   "metadata": {},
   "source": [
    "## iris_data.target_names\n",
    "## array(['setosa', 'versicolor', 'virginica'], dtype='<U10')"
   ]
  },
  {
   "cell_type": "code",
   "execution_count": 5,
   "id": "8f44af9b",
   "metadata": {},
   "outputs": [],
   "source": [
    "data_df[\"target_names\"] = data_df[\"target\"].map({0:\"setosa\",1:\"versicolor\",2:\"virginica\"})"
   ]
  },
  {
   "cell_type": "code",
   "execution_count": 6,
   "id": "45d8e3ab",
   "metadata": {},
   "outputs": [
    {
     "data": {
      "text/html": [
       "<div>\n",
       "<style scoped>\n",
       "    .dataframe tbody tr th:only-of-type {\n",
       "        vertical-align: middle;\n",
       "    }\n",
       "\n",
       "    .dataframe tbody tr th {\n",
       "        vertical-align: top;\n",
       "    }\n",
       "\n",
       "    .dataframe thead th {\n",
       "        text-align: right;\n",
       "    }\n",
       "</style>\n",
       "<table border=\"1\" class=\"dataframe\">\n",
       "  <thead>\n",
       "    <tr style=\"text-align: right;\">\n",
       "      <th></th>\n",
       "      <th>sepal length (cm)</th>\n",
       "      <th>sepal width (cm)</th>\n",
       "      <th>petal length (cm)</th>\n",
       "      <th>petal width (cm)</th>\n",
       "      <th>target</th>\n",
       "      <th>target_names</th>\n",
       "    </tr>\n",
       "  </thead>\n",
       "  <tbody>\n",
       "    <tr>\n",
       "      <th>0</th>\n",
       "      <td>5.1</td>\n",
       "      <td>3.5</td>\n",
       "      <td>1.4</td>\n",
       "      <td>0.2</td>\n",
       "      <td>0</td>\n",
       "      <td>setosa</td>\n",
       "    </tr>\n",
       "    <tr>\n",
       "      <th>1</th>\n",
       "      <td>4.9</td>\n",
       "      <td>3.0</td>\n",
       "      <td>1.4</td>\n",
       "      <td>0.2</td>\n",
       "      <td>0</td>\n",
       "      <td>setosa</td>\n",
       "    </tr>\n",
       "    <tr>\n",
       "      <th>2</th>\n",
       "      <td>4.7</td>\n",
       "      <td>3.2</td>\n",
       "      <td>1.3</td>\n",
       "      <td>0.2</td>\n",
       "      <td>0</td>\n",
       "      <td>setosa</td>\n",
       "    </tr>\n",
       "    <tr>\n",
       "      <th>3</th>\n",
       "      <td>4.6</td>\n",
       "      <td>3.1</td>\n",
       "      <td>1.5</td>\n",
       "      <td>0.2</td>\n",
       "      <td>0</td>\n",
       "      <td>setosa</td>\n",
       "    </tr>\n",
       "    <tr>\n",
       "      <th>4</th>\n",
       "      <td>5.0</td>\n",
       "      <td>3.6</td>\n",
       "      <td>1.4</td>\n",
       "      <td>0.2</td>\n",
       "      <td>0</td>\n",
       "      <td>setosa</td>\n",
       "    </tr>\n",
       "  </tbody>\n",
       "</table>\n",
       "</div>"
      ],
      "text/plain": [
       "   sepal length (cm)  sepal width (cm)  petal length (cm)  petal width (cm)  \\\n",
       "0                5.1               3.5                1.4               0.2   \n",
       "1                4.9               3.0                1.4               0.2   \n",
       "2                4.7               3.2                1.3               0.2   \n",
       "3                4.6               3.1                1.5               0.2   \n",
       "4                5.0               3.6                1.4               0.2   \n",
       "\n",
       "   target target_names  \n",
       "0       0       setosa  \n",
       "1       0       setosa  \n",
       "2       0       setosa  \n",
       "3       0       setosa  \n",
       "4       0       setosa  "
      ]
     },
     "execution_count": 6,
     "metadata": {},
     "output_type": "execute_result"
    }
   ],
   "source": [
    "data_df.head()"
   ]
  },
  {
   "cell_type": "markdown",
   "id": "08d48fba",
   "metadata": {},
   "source": [
    "## check for missing values"
   ]
  },
  {
   "cell_type": "code",
   "execution_count": 7,
   "id": "6d793c9d",
   "metadata": {},
   "outputs": [
    {
     "data": {
      "text/plain": [
       "sepal length (cm)    0\n",
       "sepal width (cm)     0\n",
       "petal length (cm)    0\n",
       "petal width (cm)     0\n",
       "target               0\n",
       "target_names         0\n",
       "dtype: int64"
      ]
     },
     "execution_count": 7,
     "metadata": {},
     "output_type": "execute_result"
    }
   ],
   "source": [
    "data_df.isnull().sum()"
   ]
  },
  {
   "cell_type": "markdown",
   "id": "09ef2a6e",
   "metadata": {},
   "source": [
    "## Train test split"
   ]
  },
  {
   "cell_type": "code",
   "execution_count": 8,
   "id": "1c8e8282",
   "metadata": {},
   "outputs": [],
   "source": [
    "X = data_df[list(iris_data.feature_names)]\n",
    "y = data_df[\"target\"]"
   ]
  },
  {
   "cell_type": "code",
   "execution_count": 9,
   "id": "c9921111",
   "metadata": {},
   "outputs": [],
   "source": [
    "X_train, X_test, y_train, y_test = train_test_split(X,y,test_size=0.20, stratify=y,random_state=42)"
   ]
  },
  {
   "cell_type": "markdown",
   "id": "18e5f4c5",
   "metadata": {},
   "source": [
    "## Sklearn Naives Bayes Classifier"
   ]
  },
  {
   "cell_type": "code",
   "execution_count": 10,
   "id": "da45ba0a",
   "metadata": {},
   "outputs": [
    {
     "name": "stdout",
     "output_type": "stream",
     "text": [
      "Training accuracy 0.96\n",
      "Testing accuracy 0.97\n"
     ]
    }
   ],
   "source": [
    "nb = GaussianNB()\n",
    "nb.fit(X_train,y_train)\n",
    "\n",
    "y_train_pred = nb.predict(X_train)\n",
    "y_test_pred = nb.predict(X_test)\n",
    "\n",
    "print(\"Training accuracy\",np.round(accuracy_score(y_train,y_train_pred),2))\n",
    "print(\"Testing accuracy\",np.round(accuracy_score(y_test,y_test_pred),2))"
   ]
  },
  {
   "cell_type": "markdown",
   "id": "de43f825",
   "metadata": {},
   "source": [
    "## Custom Naive Bayes Classifer"
   ]
  },
  {
   "cell_type": "code",
   "execution_count": 11,
   "id": "9a7c6254",
   "metadata": {},
   "outputs": [],
   "source": [
    "class custom_naive_bayes():\n",
    "    \n",
    "    \n",
    "    def __init__(self):\n",
    "        \n",
    "        self.ind_features = []\n",
    "        self.target_classes = []\n",
    "        self.class_prior_prob = dict()\n",
    "        self.ind_features_sumary = dict()\n",
    "        \n",
    "        \n",
    "    def calculate_class_probability(self,y):\n",
    "        # calculate the prior\n",
    "        # calculates the prob of each class in the target variable\n",
    "        for i in range(len(self.target_classes)):\n",
    "            temp = y[y==self.target_classes[i]]\n",
    "            class_probablity = len(temp) / len(y)\n",
    "            self.class_prior_prob[self.target_classes[i]] = np.round(class_probablity,3)\n",
    "\n",
    "    def calculate_independent_feature_summary(self,X,y):\n",
    "\n",
    "        data = pd.concat([X_train,y_train],axis=1)\n",
    "        target_feature = y.name\n",
    "\n",
    "        for i in self.ind_features:\n",
    "            #create a temp dict to store mean and std of each class\n",
    "            class_mean_std = {}\n",
    "\n",
    "            for j in self.target_classes:\n",
    "                temp_df = data[data[target_feature] == j][i]\n",
    "                mean = temp_df.mean()\n",
    "                std = temp_df.std()\n",
    "                class_mean_std[j] = (np.round(mean,3), np.round(std,3))\n",
    "\n",
    "            # for each feature append the mean std of each class to the main dict\n",
    "            self.ind_features_sumary[i] = class_mean_std\n",
    "\n",
    "    def fit(self,X,y):\n",
    "\n",
    "        #taking the list of clumns and target from X and y\n",
    "        self.ind_features.extend(list(X.columns))\n",
    "        self.target_classes.extend(list(y.unique()))\n",
    "        self.target_classes.sort()\n",
    "\n",
    "        self.calculate_class_probability(y)\n",
    "        self.calculate_independent_feature_summary(X,y)\n",
    "\n",
    "\n",
    "    def calculate_probabilty(self,x_i,mean,std_dev):\n",
    "        #calculates the probability of a feature being in certain class\n",
    "        exponent = np.exp(-(x_i-mean)**2 / (2* (std_dev**2)))\n",
    "        prob = (1/np.sqrt(2*(np.pi)*(std_dev**2)))*(exponent)\n",
    "        return prob\n",
    "\n",
    "    def calculate_likelihood(self,X): \n",
    "        \n",
    "        #calculate the likelihood of being in class_0 class_1 class_2\n",
    "\n",
    "        X_likelihood_prob = pd.DataFrame()\n",
    "\n",
    "        for cls in self.target_classes:\n",
    "\n",
    "            temp = pd.DataFrame()\n",
    "\n",
    "            for each_col in self.ind_features:            \n",
    "                #calculate the prob of each feature\n",
    "                mean = self.ind_features_sumary[each_col][cls][0]\n",
    "                std = self.ind_features_sumary[each_col][cls][1]\n",
    "                temp[each_col] = X[each_col].apply(lambda x: self.calculate_probabilty(x,mean,std))            \n",
    "\n",
    "            X_likelihood_prob[\"Prob_\"+str(cls)] = temp.apply(lambda row: np.prod(row), axis = 1)\n",
    "        return X_likelihood_prob\n",
    "\n",
    "    def calculate_posterior_prob(self,X):\n",
    "        \n",
    "        #posterior P(class/X) = P(X/class)*prior\n",
    "\n",
    "        X_likelihood_prob = self.calculate_likelihood(X)\n",
    "        target_cols = X_likelihood_prob.columns\n",
    "\n",
    "        for i in range(len(self.target_classes)):\n",
    "            #multiply with prior\n",
    "            prior_probablity = self.class_prior_prob[self.target_classes[i]]\n",
    "            X_likelihood_prob[target_cols[i]] = X_likelihood_prob[target_cols[i]].apply(lambda x: x*prior_probablity)\n",
    "\n",
    "        #take the index of maximum value\n",
    "        X_likelihood_prob[\"Predicted_Label\"] = X_likelihood_prob.apply(lambda row: np.argmax(row),axis =1 )\n",
    "        \n",
    "        return X_likelihood_prob[\"Predicted_Label\"]\n",
    "\n",
    "    def predict(self,X):\n",
    "        \n",
    "        X_likelihood_prob = self.calculate_likelihood(X)\n",
    "        X_posterior_prob  = self.calculate_posterior_prob(X)\n",
    "        return X_posterior_prob\n"
   ]
  },
  {
   "cell_type": "code",
   "execution_count": 12,
   "id": "94444a05",
   "metadata": {},
   "outputs": [],
   "source": [
    "nb = custom_naive_bayes()\n",
    "nb.fit(X_train,y_train)"
   ]
  },
  {
   "cell_type": "code",
   "execution_count": 13,
   "id": "27aa4781",
   "metadata": {},
   "outputs": [
    {
     "name": "stdout",
     "output_type": "stream",
     "text": [
      "Training accuracy 0.96\n",
      "Testing accuracy 0.97\n"
     ]
    }
   ],
   "source": [
    "y_train_pred = nb.predict(X_train)\n",
    "y_test_pred = nb.predict(X_test)\n",
    "\n",
    "print(\"Training accuracy\",np.round(accuracy_score(y_train,y_train_pred),2))\n",
    "print(\"Testing accuracy\",np.round(accuracy_score(y_test,y_test_pred),2))"
   ]
  },
  {
   "cell_type": "markdown",
   "id": "6770d672",
   "metadata": {},
   "source": [
    "### We can observe that the probabilities are the same in both the cases"
   ]
  }
 ],
 "metadata": {
  "kernelspec": {
   "display_name": "Python 3 (ipykernel)",
   "language": "python",
   "name": "python3"
  },
  "language_info": {
   "codemirror_mode": {
    "name": "ipython",
    "version": 3
   },
   "file_extension": ".py",
   "mimetype": "text/x-python",
   "name": "python",
   "nbconvert_exporter": "python",
   "pygments_lexer": "ipython3",
   "version": "3.9.12"
  }
 },
 "nbformat": 4,
 "nbformat_minor": 5
}
